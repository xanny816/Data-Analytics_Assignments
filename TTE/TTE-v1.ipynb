{
 "cells": [
  {
   "cell_type": "markdown",
   "id": "ec651125",
   "metadata": {},
   "source": [
    "# TTE-v1: Target Trial Emulation in Python\n",
    "\n",
    "This notebook demonstrates an approach to target trial emulation using Python. In this example, we:\n",
    "\n",
    "- Load and preview dummy data\n",
    "- Estimate switching weights and censoring weights using logistic regression models\n",
    "- Combine these weights and fit an outcome model using weighted least squares (WLS)\n",
    "- Expand the dataset for follow-up analysis\n",
    "- Fit a marginal structural model (MSM) to predict the outcome over follow-up time\n",
    "- Plot the predicted survival difference over follow-up\n",
    "\n",
    "The notebook mirrors the R-based methodology while clearly explaining each step."
   ]
  },
  {
   "cell_type": "code",
   "execution_count": null,
   "metadata": {},
   "outputs": [],
   "source": [
    "import pandas as pd\n",
    "import numpy as np\n",
    "import statsmodels.formula.api as smf\n",
    "import matplotlib.pyplot as plt\n",
    "\n",
    "# Configure matplotlib for inline display in the notebook\n",
    "%matplotlib inline\n"
   ]
  },
  {
   "cell_type": "markdown",
   "metadata": {},
   "source": [
    "## Step 1: Load the Dummy Data\n",
    "\n",
    "We load the dummy data from a CSV file (assumed to be named `data_censored.csv`). This dataset contains information such as patient ID, time period, treatment, outcome, and other covariates."
   ]
  },
  {
   "cell_type": "code",
   "execution_count": null,
   "metadata": {},
   "outputs": [],
   "source": [
    "# Load the dummy data into a pandas DataFrame\n",
    "data = pd.read_csv(\"data_censored.csv\")\n",
    "\n",
    "# Preview the first few rows of the dataset\n",
    "print(\"Data preview:\")\n",
    "print(data.head())\n"
   ]
  },
  {
   "cell_type": "markdown",
   "metadata": {},
   "source": [
    "## Step 2: Fit Switching Weight Models\n",
    "\n",
    "We estimate switching weights using two logistic regression models:\n",
    "\n",
    "- **Numerator Model:** Predicts the treatment variable using `age`.\n",
    "- **Denominator Model:** Predicts treatment using `age`, `x1`, and `x3`.\n",
    "\n",
    "The switching weight for each observation is calculated as the ratio of the predicted probabilities from the numerator model to the denominator model."
   ]
  },
  {
   "cell_type": "code",
   "execution_count": null,
   "metadata": {},
   "outputs": [],
   "source": [
    "# Fit switching weight models\n",
    "\n",
    "# Numerator model: Predict treatment using only age\n",
    "switch_model_numer = smf.logit(\"treatment ~ age\", data=data).fit(disp=False)\n",
    "\n",
    "# Denominator model: Predict treatment using age, x1, and x3\n",
    "switch_model_denom = smf.logit(\"treatment ~ age + x1 + x3\", data=data).fit(disp=False)\n",
    "\n",
    "# Calculate predicted probabilities from both models\n",
    "data[\"switch_prob_numer\"] = switch_model_numer.predict(data)\n",
    "data[\"switch_prob_denom\"] = switch_model_denom.predict(data)\n",
    "\n",
    "# Compute the switching weight as the ratio of the numerator and denominator probabilities\n",
    "data[\"switch_weight\"] = data[\"switch_prob_numer\"] / data[\"switch_prob_denom\"]\n",
    "\n",
    "# Display a preview of the switching weights\n",
    "print(\"Switching weights preview:\")\n",
    "print(data[[\"switch_weight\"]].head())\n"
   ]
  },
  {
   "cell_type": "markdown",
   "metadata": {},
   "source": [
    "## Step 3: Fit Censoring Weight Models\n",
    "\n",
    "Next, we estimate censoring weights to account for potential informative censoring:\n",
    "\n",
    "- **Numerator Model:** Uses `x2` to predict the censoring indicator (`censored`).\n",
    "- **Denominator Model:** Uses both `x2` and `x1` to predict `censored`.\n",
    "\n",
    "The censoring weight is computed as the ratio of predicted probabilities from the numerator model to the denominator model."
   ]
  },
  {
   "cell_type": "code",
   "execution_count": null,
   "metadata": {},
   "outputs": [],
   "source": [
    "# Fit censoring weight models\n",
    "\n",
    "# Numerator model: Predict the censoring indicator using x2\n",
    "censor_model_numer = smf.logit(\"censored ~ x2\", data=data).fit(disp=False)\n",
    "\n",
    "# Denominator model: Predict the censoring indicator using x2 and x1\n",
    "censor_model_denom = smf.logit(\"censored ~ x2 + x1\", data=data).fit(disp=False)\n",
    "\n",
    "# Calculate predicted probabilities for censoring\n",
    "data[\"cens_prob_numer\"] = censor_model_numer.predict(data)\n",
    "data[\"cens_prob_denom\"] = censor_model_denom.predict(data)\n",
    "\n",
    "# Compute the censoring weight as the ratio of the numerator and denominator probabilities\n",
    "data[\"censor_weight\"] = data[\"cens_prob_numer\"] / data[\"cens_prob_denom\"]\n",
    "\n",
    "# Display a preview of the censoring weights\n",
    "print(\"Censoring weights preview:\")\n",
    "print(data[[\"censor_weight\"]].head())\n"
   ]
  },
  {
   "cell_type": "markdown",
   "metadata": {},
   "source": [
    "## Step 4: Combine Weights\n",
    "\n",
    "The overall weight for each observation is obtained by multiplying the switching weight and the censoring weight."
   ]
  },
  {
   "cell_type": "code",
   "execution_count": null,
   "metadata": {},
   "outputs": [],
   "source": [
    "# Combine switching and censoring weights\n",
    "data[\"weight\"] = data[\"switch_weight\"] * data[\"censor_weight\"]\n",
    "\n",
    "# Display a preview of the combined weights\n",
    "print(\"Combined weights preview:\")\n",
    "print(data[[\"weight\"]].head())\n"
   ]
  },
  {
   "cell_type": "markdown",
   "metadata": {},
   "source": [
    "## Step 5: Fit Outcome Model using Weighted Regression\n",
    "\n",
    "We fit an outcome model using weighted least squares (WLS). This model estimates the effect of treatment on the outcome while adjusting for the covariate `x2`.\n",
    "\n",
    "The weights computed earlier are used to adjust for treatment switching and censoring."
   ]
  },
  {
   "cell_type": "code",
   "execution_count": null,
   "metadata": {},
   "outputs": [],
   "source": [
    "# Fit the outcome model using weighted least squares\n",
    "outcome_model = smf.wls(\"outcome ~ treatment + x2\", data=data, weights=data[\"weight\"]).fit()\n",
    "\n",
    "# Print the coefficients of the outcome model\n",
    "print(\"\\nSimplified Outcome Model Coefficients:\")\n",
    "print(outcome_model.params)\n"
   ]
  },
  {
   "cell_type": "markdown",
   "metadata": {},
   "source": [
    "## Step 6: Expand Data for Follow-Up\n",
    "\n",
    "To simulate patient follow-up over time, we expand the dataset by creating copies of the original data for follow-up times 0 through 10. This mimics the process of data expansion in a sequence of target trials."
   ]
  },
  {
   "cell_type": "code",
   "execution_count": null,
   "metadata": {},
   "outputs": [],
   "source": [
    "# Define follow-up times from 0 to 10\n",
    "followup_times = np.arange(0, 11)\n",
    "\n",
    "# Expand the dataset by creating a new copy for each follow-up time\n",
    "expanded = pd.concat([data.assign(followup_time=t) for t in followup_times], ignore_index=True)\n",
    "\n",
    "# Preview the expanded dataset\n",
    "print(\"Expanded data preview:\")\n",
    "print(expanded.head())\n"
   ]
  },
  {
   "cell_type": "markdown",
   "metadata": {},
   "source": [
    "## Step 7: Fit a Marginal Structural Model (MSM) on Expanded Data\n",
    "\n",
    "Using the expanded data, we fit a marginal structural model (MSM) via weighted least squares. This model relates the outcome to treatment, follow-up time, and the covariate `x2`.\n",
    "\n",
    "The MSM helps us estimate the causal effect of treatment over time."
   ]
  },
  {
   "cell_type": "code",
   "execution_count": null,
   "metadata": {},
   "outputs": [],
   "source": [
    "# Fit a marginal structural model (MSM) using the expanded dataset\n",
    "msm_model = smf.wls(\"outcome ~ treatment + followup_time + x2\", data=expanded, weights=expanded[\"weight\"]).fit()\n",
    "\n",
    "# Print the MSM model coefficients\n",
    "print(\"\\nSimplified MSM Model Coefficients:\")\n",
    "print(msm_model.params)\n"
   ]
  },
  {
   "cell_type": "markdown",
   "metadata": {},
   "source": [
    "## Step 8: Predict Outcomes Over Follow-Up\n",
    "\n",
    "We predict the outcome over follow-up times (0 to 10) using the MSM. For each follow-up time, we compute a weighted average of the predictions to obtain the estimated survival difference."
   ]
  },
  {
   "cell_type": "code",
   "execution_count": null,
   "metadata": {},
   "outputs": [],
   "source": [
    "# Define prediction times (follow-up times from 0 to 10)\n",
    "pred_times = np.arange(0, 11)\n",
    "\n",
    "# Initialize a list to store the weighted average predictions\n",
    "predictions = []\n",
    "\n",
    "# Loop through each follow-up time and predict the outcome\n",
    "for t in pred_times:\n",
    "    # Create a temporary copy of the original data and assign the current follow-up time\n",
    "    temp = data.copy()\n",
    "    temp[\"followup_time\"] = t\n",
    "    \n",
    "    # Predict outcomes using the MSM model\n",
    "    pred = msm_model.predict(temp)\n",
    "    \n",
    "    # Calculate the weighted average prediction for this follow-up time\n",
    "    predictions.append(np.average(pred, weights=temp[\"weight\"]))\n",
    "\n",
    "# Display the predicted outcomes over follow-up times\n",
    "print(\"Predicted outcomes over follow-up times:\")\n",
    "print(predictions)\n"
   ]
  },
  {
   "cell_type": "markdown",
   "metadata": {},
   "source": [
    "## Step 9: Plot the Predicted Survival Difference\n",
    "\n",
    "Finally, we plot the predicted survival difference over follow-up time. The blue line represents the weighted average predictions, while the red dashed lines (dummy confidence intervals) are shown as ±0.1 around the predictions."
   ]
  },
  {
   "cell_type": "code",
   "execution_count": null,
   "metadata": {},
   "outputs": [],
   "source": [
    "# Create dummy lower and upper bounds for the plot (±0.1 for demonstration purposes)\n",
    "lower_bound = [p - 0.1 for p in predictions]\n",
    "upper_bound = [p + 0.1 for p in predictions]\n",
    "\n",
    "# Plot the predicted survival difference over follow-up time\n",
    "plt.figure(figsize=(8,6))\n",
    "plt.plot(pred_times, predictions, label=\"Survival Difference\", color=\"blue\")\n",
    "plt.plot(pred_times, lower_bound, \"r--\", label=\"2.5% CI\")\n",
    "plt.plot(pred_times, upper_bound, \"r--\", label=\"97.5% CI\")\n",
    "plt.xlabel(\"Follow-up Time\")\n",
    "plt.ylabel(\"Survival Difference\")\n",
    "plt.title(\"Predicted Survival Difference Over Follow-up\")\n",
    "plt.legend()\n",
    "plt.show()\n"
   ]
  }
 ],
 "metadata": {
  "kernelspec": {
   "display_name": "Python 3",
   "language": "python",
   "name": "python3"
  },
  "language_info": {
   "name": "python",
   "version": "3.x"
  }
 },
 "nbformat": 4,
 "nbformat_minor": 5
}
